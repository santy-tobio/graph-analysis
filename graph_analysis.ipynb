{
 "cells": [
  {
   "cell_type": "markdown",
   "metadata": {},
   "source": [
    "## **Cargamos el grafo PageGraph**"
   ]
  },
  {
   "cell_type": "code",
   "execution_count": 3,
   "metadata": {},
   "outputs": [],
   "source": [
    "from graph import Graph\n",
    "import heapq\n",
    "import time\n",
    "from collections import deque\n",
    "from tqdm import tqdm\n",
    "import random\n",
    "from itertools import combinations\n",
    "import matplotlib.pyplot as plt\n",
    "from typing import Dict\n"
   ]
  },
  {
   "cell_type": "code",
   "execution_count": 2,
   "metadata": {},
   "outputs": [],
   "source": [
    "page_graph = Graph()\n",
    "\n",
    "with open('web-Google.txt', 'r') as file:\n",
    "    for l in file:\n",
    "        if \"# FromNodeId\tToNodeId\" in l:\n",
    "            break\n",
    "    for l in file:\n",
    "        if not l:\n",
    "            break\n",
    "        edge = tuple(int(v.replace(\"\\n\", \"\").replace(\"\\t\", \"\")) for v in l.split(\"\\t\"))\n",
    "        for v in edge:\n",
    "            if not page_graph.vertex_exists(v):\n",
    "                page_graph.add_vertex(str(v))\n",
    "        page_graph.add_edge(str(edge[0]), str(edge[1]))"
   ]
  },
  {
   "cell_type": "markdown",
   "metadata": {},
   "source": [
    "## **Preguntas**"
   ]
  },
  {
   "cell_type": "markdown",
   "metadata": {},
   "source": [
    "## 1) ¿Cuál es el tamaño de la componente conexa más grande? ¿Cuántas componentes conexas hay?"
   ]
  },
  {
   "cell_type": "code",
   "execution_count": 59,
   "metadata": {},
   "outputs": [
    {
     "name": "stdout",
     "output_type": "stream",
     "text": [
      "La componente conexa más grande tiene 855802 vertices\n",
      "La cantidad de compoenentes conexas es:  2746\n"
     ]
    }
   ],
   "source": [
    "def convert_to_undirected(graph: Graph) -> Graph:\n",
    "    undirected_graph = Graph()\n",
    "    for vertex in graph.get_vertices():\n",
    "        undirected_graph.add_vertex(vertex)\n",
    "        for neighbor in graph.get_neighbors(vertex):\n",
    "            undirected_graph.add_vertex(neighbor)\n",
    "            undirected_graph.add_edge(vertex, neighbor)\n",
    "            undirected_graph.add_edge(neighbor, vertex)\n",
    "    return undirected_graph\n",
    "\n",
    "def dfs(graph: Graph, vertex: str, visited: set) -> int:\n",
    "    stack = [vertex]\n",
    "    count = 0\n",
    "    while stack:\n",
    "        v = stack.pop()\n",
    "        if v not in visited:\n",
    "            visited.add(v)\n",
    "            count += 1\n",
    "            for neighbor in graph.get_neighbors(v):\n",
    "                if neighbor not in visited:\n",
    "                    stack.append(neighbor)\n",
    "    return count\n",
    "\n",
    "def largest_wcc_and_count(graph: Graph):\n",
    "    undirected_graph = convert_to_undirected(graph)\n",
    "    visited = set()\n",
    "    component_sizes = []\n",
    "    \n",
    "    for vertex in undirected_graph.get_vertices():\n",
    "        if vertex not in visited:\n",
    "            size = dfs(undirected_graph, vertex, visited)\n",
    "            component_sizes.append(size)\n",
    "   \n",
    "    largest_wcc_size = max(component_sizes)\n",
    "        \n",
    "    number_of_wcc = len(component_sizes)\n",
    "    \n",
    "    return largest_wcc_size, number_of_wcc\n",
    "\n",
    "largest_wcc_size, number_of_wcc = largest_wcc_and_count(page_graph)\n",
    "print(f\"La componente conexa más grande tiene {largest_wcc_size} vertices\")\n",
    "print(\"La cantidad de compoenentes conexas es: \", number_of_wcc)"
   ]
  },
  {
   "cell_type": "markdown",
   "metadata": {},
   "source": [
    "## 2)Calcular el camino mínimo de todos con todos. ¿En cuanto tiempo lo puede hacer? ¿Qué orden tiene el algoritmo? En caso de no alcanzarle el tiempo, estime cuanto tiempo le llevaría."
   ]
  },
  {
   "cell_type": "code",
   "execution_count": 60,
   "metadata": {},
   "outputs": [
    {
     "name": "stdout",
     "output_type": "stream",
     "text": [
      "Cantidad de vértices: 875713\n",
      "Cantidad de aristas: 5105039\n"
     ]
    }
   ],
   "source": [
    "get_number_of_edges = lambda graph: sum([len(graph.get_neighbors(v)) for v in graph.get_vertices()]) \n",
    "get_number_of_vertices = lambda graph: len(graph.get_vertices())\n",
    "print(f\"Cantidad de vértices: {get_number_of_vertices(page_graph)}\")\n",
    "print(f\"Cantidad de aristas: {get_number_of_edges(page_graph)}\")"
   ]
  },
  {
   "cell_type": "markdown",
   "metadata": {},
   "source": [
    "## **Alternativa 1:** Utilizar el algoritmo de Floyd-Warshall"
   ]
  },
  {
   "cell_type": "markdown",
   "metadata": {},
   "source": [
    "La idea es ejecutar el algoritmos de Dijkstra para un vértice de cada componente conexa del grafo. Entendiendo una componente conexa como un subgrafo maximal conexo.\n",
    "Podemos suponer que para todos los vértices de una componenete conexa este algoritmo tardaría lo mismo. Entonces para estimar el tiempo que tardaría en ejecutarse el algoritmo, tomamos un vértice de cada componente conexa y calculamos el tiempo que tarda, luego lo multiplicamos por la cantidad de vertices que tiene la componente conexa. Si sumamos todos los tiempos obtendremos el tiempo total que tardaría en ejecutarse el algoritmo.\n",
    "\n",
    "Es decir: $$\\text{Tiempo total} = \\sum_{i=1}^{\\text{Cantidad de Componentes conexas}} (\\text{Tiempo de ejecución de Dijkstra para un } V \\in i \\times \\text{cantidad de vértices en } i)_{i}$$\n",
    "\n",
    "# Calculo de Orden \n",
    "\n",
    "- Complejidad temporal: $O( |V| \\times \\text{O(remove min)} + |E| \\times \\text{O(decrease key)} )$\n",
    "\n",
    "Su implementación más eficiente emplea Abdication Heaps, que son heaps que cuentan con la primitiva decrease-key, que permite actualizar la prioridad de un elemento en tiempo $O(1)$.\n",
    "\n",
    "- *Sin Abdication Heaps*: $O( |V| \\times  \\log(|V|)  + |E| \\times  \\log(|V|)  )$\n",
    "\n",
    "- *Con Abdication Heaps*: $O( |V| \\times \\log(|V|) + |E| )$\n",
    "\n",
    "**Estimación de dijkstra:**\n",
    "\n",
    "Dado que el grafo tiene $875713$ nodos y $5105039$ aristas, *Sin Abdication Heap* tendría una complejidad de $$O( 875713 \\times \\log(875713) + 5105039 \\times \\log(875713) ) = O( 875713 \\times 20 + 5105039 \\times 20 ) = O( 17.514.260 + 102.100.780 ) = O( 119.615.040 )$$\n",
    "\n",
    "y *Con Abdication Heap* tendría una complejidad de $$O( 875713 \\times \\log(875713) + 5105039 ) = O( 875713 \\times 20 + 5105039 ) = O( 17.514.260 + 5105039 ) = O( 22.519.\n",
    "299 )$$\n",
    "\n",
    "\n",
    "$$\\text{V veces Dijkstra} = 875713 \\times  22.519.299 = O(|V| \\times (|V| \\times \\log(|V|) + |E|)) = O(|V^{2} \\times \\log(|V) + |E| \\times |V|)$$ "
   ]
  },
  {
   "cell_type": "markdown",
   "metadata": {},
   "source": [
    "Floyd-Warshall Tiene una complejidad temporal de $O(|V|^{3})$. Y nos da el camino mínimo de todos con todos. Dado que nuestro grafo tiene $|V|= 875713$ La compejidad temporal de este algoritmo sería de $$O(875713^{3})$$"
   ]
  },
  {
   "cell_type": "markdown",
   "metadata": {},
   "source": [
    "## **Alternativa 2:** Utilizar el algoritmo de Dijkstra V veces para todos los nodos en cada componente conexa"
   ]
  },
  {
   "cell_type": "markdown",
   "metadata": {},
   "source": [
    "## **Alternativa 3:** Utilizar BFS V veces todos los nodos en cada componente conexa"
   ]
  },
  {
   "cell_type": "markdown",
   "metadata": {},
   "source": [
    "Dado que nuestro grafo dirigdo, con ciclos pero no pesado podemos utilizar BFS para calcular el camino mínimo de todos con todos. La complejidad temporal de BFS es $O(|V| + |E|)$ Que en nuestro caso sería $O(|V| *  (875.713 + 5.105.039)) = O(875.713 * 5.970.752)$ = $O(|V^{2}| + |V| \\times |E|)$\n",
    "\n",
    "Como $O(|V^{2}| + |V| \\times |E|) < O(|V^{2} \\times \\log(|V) + |V| \\times |E|) < |V^{3}|$ la mejor alternativa sería utilizar BFS para estimar el tiempo de calcular camino mínimo de todos con todos.\n",
    "\n",
    "Utilizamos la misma idea que en la alternativa 2, tomamos un vértice de cada componente conexa y calculamos el tiempo que tarda, luego lo multiplicamos por la cantidad de vertices que tiene la componente conexa. Si sumamos todos los tiempos obtendremos el tiempo total que tardaría en ejecutarse el algoritmo.\n",
    "\n",
    "Es decir: $$\\text{Tiempo total} \\approx \\sum_{i=1}^{\\text{Cantidad de Componentes conexas}} (\\text{Tiempo de ejecución de BFS para un } V \\in i \\times \\text{Cantidad de vértices en } i)_{i}$$"
   ]
  },
  {
   "cell_type": "code",
   "execution_count": 61,
   "metadata": {},
   "outputs": [
    {
     "name": "stderr",
     "output_type": "stream",
     "text": [
      "100%|██████████| 2746/2746 [00:08<00:00, 315.82it/s]"
     ]
    },
    {
     "name": "stdout",
     "output_type": "stream",
     "text": [
      "Tiempo estimado para encontrar todos los caminos mínimos: 7423738.393883467 segundos\n",
      "Tiempo estimado para encontrar todos los caminos mínimos: 123728.97323139111 minutos\n",
      "Tiempo estimado para encontrar todos los caminos mínimos: 2062.1495538565187 horas\n",
      "Tiempo estimado para encontrar todos los caminos mínimos: 85.92289807735494 días\n"
     ]
    },
    {
     "name": "stderr",
     "output_type": "stream",
     "text": [
      "\n"
     ]
    }
   ],
   "source": [
    "def get_1_vertex_from_every_connected_components(graph: Graph)-> list: \n",
    "    \"\"\"\n",
    "    devuelve una lista de tuplas con un vértice de cada componente conexa y la cantidad de nodos en esa componente\n",
    "    \"\"\"\n",
    "    undirected_graph = convert_to_undirected(graph)\n",
    "    visited = set()\n",
    "    result = []\n",
    "    for vertex in undirected_graph.get_vertices():\n",
    "        if vertex not in visited:\n",
    "            count = dfs(undirected_graph, vertex, visited)\n",
    "            result.append((vertex, count))\n",
    "    return result\n",
    "\n",
    "def All_min_paths_with_bfs(graph: Graph, start_vertex: str) -> dict:\n",
    "    visited = set()\n",
    "    queue = deque([(0, [start_vertex])])\n",
    "    result = {}\n",
    "    while queue:\n",
    "        cost, path = queue.popleft()\n",
    "        vertex = path[-1]\n",
    "        if vertex not in visited:\n",
    "            visited.add(vertex)\n",
    "            result[vertex] = (cost, path)\n",
    "            for neighbor in graph.get_neighbors(vertex):\n",
    "                if neighbor not in visited:\n",
    "                    queue.append((cost + 1, path + [neighbor]))\n",
    "    return result\n",
    "\n",
    "def all_min_path_time_estimation(graph: Graph) -> float:\n",
    "    components = get_1_vertex_from_every_connected_components(graph)\n",
    "    total_time = 0\n",
    "    for vertex, nodes_in_CC in tqdm(components):\n",
    "        start_time = time.time()\n",
    "        All_min_paths_with_bfs(graph, vertex)\n",
    "        end_time = time.time()\n",
    "        total_time += (end_time - start_time) * nodes_in_CC\n",
    "    return total_time\n",
    "\n",
    "resultado = all_min_path_time_estimation(page_graph) \n",
    "print(f\"El tiempo estimado para calcular todos los caminos mínimos es: {resultado} segundos\")\n",
    "print(f\"El tiempo estimado para calcular todos los caminos mínimos es: {resultado/60} minutos\")\n",
    "print(f\"El tiempo estimado para calcular todos los caminos mínimos es: {resultado/3600} horas\")\n",
    "print(f\"El tiempo estimado para calcular todos los caminos mínimos es: {resultado/3600/24} días\")\n"
   ]
  },
  {
   "cell_type": "markdown",
   "metadata": {},
   "source": [
    "## 3) En un grafo un triángulo es una conexión entre 3 vértices.  ¿Cuántos triángulos tiene el grafo?"
   ]
  },
  {
   "cell_type": "markdown",
   "metadata": {},
   "source": [
    "- Contamos un tríangulo como una conexión entre 3 vértices. A -> B -> C -> A . Como nuestro grafo es diriguido, a cada triangulo lo vamos a contar 3 veces. Por lo que la cantidad de triángulos sería la cantidad de conexiones triangulas entre 3 vértices dividido 3."
   ]
  },
  {
   "cell_type": "code",
   "execution_count": 62,
   "metadata": {},
   "outputs": [
    {
     "name": "stdout",
     "output_type": "stream",
     "text": [
      "Cantidad de triángulos en el grafo: 3889771\n"
     ]
    }
   ],
   "source": [
    "def count_triangles(graph: Graph) -> int:\n",
    "    triangles = 0\n",
    "    vertices = graph.get_vertices()\n",
    "    neighbors = {vertex: set(graph.get_neighbors(vertex)) for vertex in vertices}\n",
    "    \n",
    "    for vertex in vertices:\n",
    "        for i in neighbors[vertex]:\n",
    "            for j in neighbors[i]:\n",
    "                if vertex in neighbors[j]:\n",
    "                    triangles += 1\n",
    "    \n",
    "    return triangles // 3\n",
    "\n",
    "\n",
    "triangles = count_triangles(page_graph)\n",
    "print(f\"Cantidad de triángulos en el grafo: {triangles}\")"
   ]
  },
  {
   "cell_type": "markdown",
   "metadata": {},
   "source": [
    "## 4) Calcular el Diámetro del grafo"
   ]
  },
  {
   "cell_type": "markdown",
   "metadata": {},
   "source": [
    "Para calcular el diámetro del grafo la idea que utilizamos en el punto 2) subestimaría por mucho el diámetro real del grafo. Ya que la componente conexa más grande tiene $855802$ vértices, es decir un $97.8\\%$ de los vértices del grafo. Si tomamos un vértice de cada componente conexa, es claro que el máximo de los caminos mínimos no va a estar en varias particiones que representan el $2.2\\%$ de los vértices. Por lo tanto vamos a elegir un conjunto aleatorio de vértices y buscar el máximo de los caminos mínimos máximos de cada vértice.\n",
    "\n",
    "$$ \\text{Diámetro} \\approx \\max [ \\max_{j=1}^{n} \\text{Caminos Mínimos}(V_{j}) ]$$\n",
    "\n",
    "Como el grafo es no pesado, podemos utilizar BFS para calcular el camino mínimo entre todos los vértices y el vértice $V_{j}$ ya que es el algoritmo que nos provee el mejor orden de complejidad, dado nuestro grafo. Además nos podemos ahorar el computar todos los camínimos mínimos y solo tomar la distancia máxima. "
   ]
  },
  {
   "cell_type": "code",
   "execution_count": 63,
   "metadata": {},
   "outputs": [
    {
     "name": "stderr",
     "output_type": "stream",
     "text": [
      "100%|██████████| 150/150 [02:09<00:00,  1.16it/s]"
     ]
    },
    {
     "name": "stdout",
     "output_type": "stream",
     "text": [
      "Diámetro estimado del grafo: 41\n"
     ]
    },
    {
     "name": "stderr",
     "output_type": "stream",
     "text": [
      "\n"
     ]
    }
   ],
   "source": [
    "def bfs2(graph, start_vertex: str): #ESTA CELDA TARDA 2 MINUTOS EN CORRER\n",
    "    \"\"\"\n",
    "    Perform BFS and return the maximum shortest path length from start_vertex to all reachable vertices.\n",
    "    :param start_vertex: the starting vertex for BFS\n",
    "    :return: the maximum shortest path length\n",
    "    \"\"\"\n",
    "    queue = deque([start_vertex])\n",
    "    distances = {start_vertex: 0}\n",
    "\n",
    "    while queue:\n",
    "        current_vertex = queue.popleft()\n",
    "        current_distance = distances[current_vertex]\n",
    "\n",
    "        for neighbor in graph.get_neighbors(current_vertex):\n",
    "            if neighbor not in distances:\n",
    "                queue.append(neighbor)\n",
    "                distances[neighbor] = current_distance + 1\n",
    "\n",
    "    return max(distances.values())\n",
    "\n",
    "def estimate_diameter(graph, sample_size: int = 150) -> int:\n",
    "    \"\"\"\n",
    "    Estimate the diameter of the graph.\n",
    "    :param sample_size: the number of random vertices to sample\n",
    "    :return: the estimated diameter\n",
    "    \"\"\"\n",
    "    vertices = graph.get_vertices()\n",
    "    \n",
    "    sampled_vertices = random.sample(vertices, min(sample_size, len(vertices)))\n",
    "    max_shortest_path = 0\n",
    "\n",
    "    for vertex in tqdm(sampled_vertices):\n",
    "        max_distance = bfs2(graph, vertex)\n",
    "        max_shortest_path = max(max_shortest_path, max_distance)\n",
    "\n",
    "    return max_shortest_path\n",
    "\n",
    "print(f\"Diámetro estimado del grafo: {estimate_diameter(page_graph)}\")"
   ]
  },
  {
   "cell_type": "markdown",
   "metadata": {},
   "source": [
    "## 5) Calcule el PageRank de los vértices del grafo"
   ]
  },
  {
   "cell_type": "markdown",
   "metadata": {},
   "source": [
    "- Google inventó un algoritmo llamado PageRank que le permitía saber qué páginas eran más confiables según que tanto eran referenciadas. PageRank consiste en hacer muchos random walks a lo largo del grafo y contar cuántas veces aparece cada vértice. Los vértices que más aparecen son los de mayor PageRank.\n",
    "\n",
    "- Tomamos el mismo argumento que en 4) seguramente los nodos con mayor PageRank $\\in$ Componente conexa más grande. Por lo que vamos a tomar un conjunto aleatorio de vértices y empezar a hacer random walks desde cada uno de ellos. Luego tomamos el promedio de las veces que aparece cada vértice y eso sería el PageRank de cada vértice.\n",
    "\n",
    "- Dado que la mayor componente conexa de nuesto grafo tiene $855802$ vértices, nos conviene tomar una muestra grande vertices para abarcar la mayor cantidad de vértices en nuestro grafo. También nos conviene profundizar la cantidad de random walks empezando desde más vertices y no hacer muchos siempre desde los mismos ya que si un nodo tiene pocas aristas sobreestimaríamos el PageRank de sus pocos vecinos ya que casi siempre se pasaría por ellos en el random walk. \n",
    "\n",
    "- También debemos tener en cuenta que el Grafo tiene $5105039$ aristas, por lo que es importante tomar varios steps en nuestros random walks ya que hay muchas aristas para recorrer.\n",
    "\n",
    "- La fórmula para calcular el PageRank sería:\n",
    "\n",
    "- Por lo tanto hacemos muchos random walks y dividimos por la cantidad de pasos para calcular el PageRank\n",
    "\n",
    "$$ N = \\text{Cantidad de Random Walks} $$\n",
    "\n",
    "$$ S = \\text{Cantidad de Steps} $$\n",
    "\n",
    "$$ \\text{PageRank} (V_{i}) \\approx \\frac{1}{N \\times S} \\sum_{j=1}^{N} V_{i} \\in \\text{Random Walks}(V_{j}) $$\n",
    "\n"
   ]
  },
  {
   "cell_type": "code",
   "execution_count": 64,
   "metadata": {},
   "outputs": [
    {
     "name": "stdout",
     "output_type": "stream",
     "text": [
      "Top 10 vértices con mayor PageRank\n",
      "1. 544138 - PageRank: 0.000874418\n",
      "2. 747106 - PageRank: 0.000874266\n",
      "3. 370344 - PageRank: 0.000873598\n",
      "4. 24576 - PageRank: 0.000873544\n",
      "5. 587617 - PageRank: 0.000532648\n",
      "6. 671168 - PageRank: 0.000474566\n",
      "7. 873996 - PageRank: 0.000414186\n",
      "8. 877461 - PageRank: 0.000299858\n",
      "9. 784752 - PageRank: 0.000299856\n",
      "10. 627251 - PageRank: 0.000299812\n"
     ]
    }
   ],
   "source": [
    "def calculate_pagerank(graph, num_walks: int, walk_length: int) -> dict: \n",
    "    \"\"\"                                                                  \n",
    "    Calculate the PageRank of the vertices using random walks\n",
    "    :param num_walks: Number of random walks to perform\n",
    "    :param walk_length: Length of each random walk\n",
    "    :param sample_size: Number of vertices to sample\n",
    "    :return: Dictionary with vertices as keys and their PageRank as values\n",
    "    \"\"\"\n",
    "    vertices = graph.get_vertices()\n",
    "    pagerank = {vertex: 0 for vertex in vertices}\n",
    "    \n",
    "    for _ in range(num_walks):\n",
    "        current_vertex = random.choice(vertices)\n",
    "        for _ in range(walk_length):\n",
    "            pagerank[current_vertex] = pagerank.get(current_vertex, 0) + 1\n",
    "            neighbors = graph.get_neighbors(current_vertex)\n",
    "            if not neighbors:\n",
    "                break\n",
    "            current_vertex = random.choice(neighbors)\n",
    "    \n",
    "    total_visits = num_walks * walk_length\n",
    "    for vertex in pagerank:\n",
    "        pagerank[vertex] /= total_visits\n",
    "    \n",
    "    return pagerank\n",
    "\n",
    "\n",
    "def print_top_pagerank(graph, num_walks: int, walk_length: int, top: int):\n",
    "    pagerank = calculate_pagerank(graph, num_walks, walk_length)\n",
    "    top_pagerank = heapq.nlargest(top, pagerank, key=pagerank.get)\n",
    "    for i, vertex in enumerate(top_pagerank):\n",
    "        print(f\"{i+1}. {vertex} - PageRank: {pagerank[vertex]}\")\n",
    "\n",
    "print(\"Top 10 vértices con mayor PageRank\")\n",
    "print_top_pagerank(page_graph, 10000, 50000 , 10)"
   ]
  },
  {
   "cell_type": "markdown",
   "metadata": {},
   "source": [
    "## 6) ¿Cuál es la circunferencia del grafo?"
   ]
  },
  {
   "cell_type": "markdown",
   "metadata": {},
   "source": [
    "- La circunferencia del grafo es el ciclo más largo. Para calcularla vamos a utilizar DFS para buscar ciclos de largo k, en cierto tiempo límite y luego tomar el máximo de los k."
   ]
  },
  {
   "cell_type": "code",
   "execution_count": 65,
   "metadata": {},
   "outputs": [
    {
     "name": "stdout",
     "output_type": "stream",
     "text": [
      "Longitud del ciclo más largo encontrado en 120 segundos: 351\n"
     ]
    }
   ],
   "source": [
    "\n",
    "def find_cycle_of_length_k(graph: Graph, k: int, operation_time_limit: float) -> bool:\n",
    "    start_time = time.time()\n",
    "\n",
    "    def dfs(current: str, start: str, depth: int, visited: Dict[str, int]) -> bool:\n",
    "        if depth == k:\n",
    "            return current == start\n",
    "        \n",
    "        if time.time() - start_time > operation_time_limit:\n",
    "            return False\n",
    "        \n",
    "        visited[current] = depth\n",
    "        \n",
    "        for neighbor in graph.get_neighbors(current):\n",
    "            if neighbor not in visited or (neighbor == start and depth == k - 1):\n",
    "                if dfs(neighbor, start, depth + 1, visited):\n",
    "                    return True\n",
    "\n",
    "        visited.pop(current)\n",
    "        return False\n",
    "\n",
    "    for vertex in graph.get_vertices():\n",
    "        visited = {}\n",
    "        if dfs(vertex, vertex, 0, visited):\n",
    "            return True\n",
    "    \n",
    "    return False\n",
    "\n",
    "def find_longest_cycle_within_time(graph: Graph, time_limit: float, operation_time_limit: float = 1.0) -> int:\n",
    "    k = 3\n",
    "    longest_cycle = 0\n",
    "    start_time = time.time()\n",
    "\n",
    "    while time.time() - start_time <= time_limit:\n",
    "        if find_cycle_of_length_k(graph, k, operation_time_limit):\n",
    "            longest_cycle = k\n",
    "        k += 3\n",
    "\n",
    "    return longest_cycle\n",
    "\n",
    "time_limit = 120\n",
    "print(f\"Longitud del ciclo más largo encontrado en {time_limit} segundos: {find_longest_cycle_within_time(page_graph, time_limit)}\")\n"
   ]
  },
  {
   "cell_type": "markdown",
   "metadata": {},
   "source": [
    "## **Extras**"
   ]
  },
  {
   "cell_type": "markdown",
   "metadata": {},
   "source": [
    "## 1) Programe una función genérica que extendiendo la definición del triángulo calcule la cantidad de polígonos de K lados. Haga un gráfico para mostrar la cantidad de polígonos por cantidad de lados, estimando aquellos que no pueda calcular"
   ]
  },
  {
   "cell_type": "markdown",
   "metadata": {},
   "source": [
    "Para encontrar los polígonos de K lados vamos a usar un enfoque similar al punto 6. Entendemos a un poligono de K lados como una conexión entre K vértices. Tales que \n",
    "$ V_{1} \\rightarrow V_{2} \\rightarrow V_{3} \\rightarrow ... \\rightarrow V_{K} \\rightarrow V_{1} $. Pero ahora vamos a contar todos los ciclos (que podamos) de largo $K$ \n",
    "\n",
    "$$ \\text{Polígonos de K lados} = \\frac{\\text{Cantidad de conexiones poligonales entre K vértices}}{K}$$"
   ]
  },
  {
   "cell_type": "code",
   "execution_count": 66,
   "metadata": {},
   "outputs": [
    {
     "data": {
      "image/png": "[encoded data removed]",
      "text/plain": [
       "<Figure size 1200x800 with 1 Axes>"
      ]
     },
     "metadata": {},
     "output_type": "display_data"
    }
   ],
   "source": [
    "def count_polygons_of_length_k(graph: Graph, k: int) -> int: #TARDA 4 MINUTOS EN CORRER\n",
    "    polygons = 0\n",
    "    vertices = graph.get_vertices()\n",
    "    neighbors = {vertex: set(graph.get_neighbors(vertex)) for vertex in vertices}\n",
    "\n",
    "    def dfs(vertex, start, depth):\n",
    "        nonlocal polygons\n",
    "        if depth == k:\n",
    "            if start in neighbors[vertex]:\n",
    "                polygons += 1\n",
    "            return\n",
    "        for neighbor in neighbors[vertex]:\n",
    "            if neighbor not in visited:\n",
    "                visited.add(neighbor)\n",
    "                dfs(neighbor, start, depth + 1)\n",
    "                visited.remove(neighbor)\n",
    "\n",
    "    for vertex in vertices:\n",
    "        visited = {vertex}\n",
    "        dfs(vertex, vertex, 1)\n",
    "\n",
    "    return polygons // k\n",
    "\n",
    "def count_polygons_up_to_k(graph: Graph, max_k: int) -> Dict[int, int]:\n",
    "    polygons_count = {}\n",
    "    \n",
    "    for k in range(3, max_k + 1):    \n",
    "        polygons_count[k] = count_polygons_of_length_k(graph, k)\n",
    "    \n",
    "    return polygons_count\n",
    "\n",
    "def plot_polygons_count(polygons_count: Dict[int, int], max_k: int):\n",
    "    x = list(polygons_count.keys())\n",
    "    y = list(polygons_count.values())\n",
    "    \n",
    "    plt.figure(figsize=(12, 8))\n",
    "    if max_k <= 5:\n",
    "        plt.bar(x, y)\n",
    "    else:\n",
    "        plt.plot(x, y, marker='o')\n",
    "    \n",
    "    plt.xlabel('Number of Sides (k)')\n",
    "    plt.ylabel('Number of Polygons')\n",
    "    plt.title('Number of Polygons by Number of Sides')\n",
    "    plt.grid(True)\n",
    "    \n",
    "    # Customize the y-axis to show numbers in full\n",
    "    plt.ticklabel_format(style='plain', axis='y')\n",
    "    plt.gca().get_yaxis().get_major_formatter().set_scientific(False)\n",
    "    plt.gca().get_yaxis().set_major_formatter(plt.FuncFormatter(lambda x, _: f'{int(x):,}'))\n",
    "    \n",
    "    plt.show()\n",
    "\n",
    "max_k = 4\n",
    "\n",
    "polygons_count = count_polygons_up_to_k(page_graph, max_k)\n",
    "plot_polygons_count(polygons_count, max_k)\n"
   ]
  },
  {
   "cell_type": "markdown",
   "metadata": {},
   "source": [
    "- Como podemos ver en el gráfico, la cantidad de polígonos de $K$ lados crece exponencialmente con K. Por lo que que calcular la cantidad de poligonos para $K > 4$ sería muy costoso computacionalmente."
   ]
  },
  {
   "cell_type": "markdown",
   "metadata": {},
   "source": [
    "## 2) Calcule el coeficiente de clustering del grafo "
   ]
  },
  {
   "cell_type": "markdown",
   "metadata": {},
   "source": [
    "- El coeficiente de clustering de un grafo es una medida de cuánto se agrupan los vértices en el grafo. Se calcula como el promedio de los coeficientes de clustering de cada vértice. El coeficiente de clustering de un vértice es la cantidad de aristas entre los vecinos del vértice dividido la cantidad de aristas posibles entre los vecinos del vértice.\n",
    "\n",
    "$$ \\text{Coeficiente de Clustering} = \\frac{1}{|V|} \\sum_{i=1}^{|V|} \\frac{\\text{Cantidad de aristas entre los vecinos de } V_{i}}{\\text{Cantidad de aristas posibles entre los vecinos de } V_{i}}$$"
   ]
  },
  {
   "cell_type": "code",
   "execution_count": 67,
   "metadata": {},
   "outputs": [
    {
     "name": "stdout",
     "output_type": "stream",
     "text": [
      "El coeficiente de clustering promedio sobre el grafo diriguido es: 0.3668182309605963\n"
     ]
    }
   ],
   "source": [
    "def clustering_coefficient(graph, vertex):\n",
    "    neighbors = graph.get_neighbors(vertex)\n",
    "    degree = len(neighbors)\n",
    "    \n",
    "    if degree < 2:\n",
    "        return 0.0\n",
    "    \n",
    "    possible_connections = degree * (degree - 1) / 2\n",
    "    actual_connections = 0\n",
    "    \n",
    "    neighbor_set = set(neighbors)\n",
    "    for neighbor1, neighbor2 in combinations(neighbor_set, 2):\n",
    "        if graph.edge_exists(neighbor1, neighbor2):\n",
    "            actual_connections += 1\n",
    "    \n",
    "    return actual_connections / possible_connections\n",
    "\n",
    "def average_clustering_coefficient(graph):\n",
    "    vertices = graph.get_vertices()\n",
    "    clustering_coefficients = [clustering_coefficient(graph, vertex) for vertex in vertices]\n",
    "    return sum(clustering_coefficients) / len(vertices)\n",
    "\n",
    "\n",
    "print(f\"El coeficiente de clustering promedio sobre el grafo diriguido es: {average_clustering_coefficient(page_graph)}\")"
   ]
  },
  {
   "cell_type": "markdown",
   "metadata": {},
   "source": [
    "## 3) ¿cuál es el vértice con más betweenness centrality?"
   ]
  },
  {
   "cell_type": "markdown",
   "metadata": {},
   "source": [
    "- La betweenness centrality de un vértice es una medida de cuánto pasa por ese vértice en los caminos más cortos entre otros vértices. Se calcula como la cantidad de caminos más cortos que pasan por el vértice dividido la cantidad de caminos más cortos posibles.\n",
    "\n",
    "$$ \\text{Betweenness Centrality} = \\frac{\\text{Cantidad de caminos más cortos que pasan por } V_{i}}{\\text{Cantidad de caminos más cortos posibles}}$$"
   ]
  },
  {
   "cell_type": "code",
   "execution_count": 68,
   "metadata": {},
   "outputs": [
    {
     "name": "stdout",
     "output_type": "stream",
     "text": [
      "Calculando betweenness centrality\n"
     ]
    },
    {
     "name": "stderr",
     "output_type": "stream",
     "text": [
      "100%|██████████| 10/10 [00:16<00:00,  1.69s/it]\n"
     ]
    },
    {
     "name": "stdout",
     "output_type": "stream",
     "text": [
      "Betweenness centrality calculado\n",
      "Top 10 vértices con mayor betweenness centrality\n",
      "1. 560622 - Betweenness Centrality: 605800\n",
      "2. 39469 - Betweenness Centrality: 531501\n",
      "3. 461260 - Betweenness Centrality: 467133\n",
      "4. 464313 - Betweenness Centrality: 434739\n",
      "5. 382048 - Betweenness Centrality: 425644\n",
      "6. 165367 - Betweenness Centrality: 348361\n",
      "7. 792025 - Betweenness Centrality: 346544\n",
      "8. 204448 - Betweenness Centrality: 341936\n",
      "9. 26922 - Betweenness Centrality: 272106\n",
      "10. 330762 - Betweenness Centrality: 240880\n"
     ]
    }
   ],
   "source": [
    "def bfs(graph, start):      \n",
    "    \"\"\"bfs all the graph from start vertex\"\"\"\n",
    "    queue = deque()\n",
    "    queue.append(start)\n",
    "    visited = set()\n",
    "    visited.add(start)\n",
    "    previous = {start: (None,0)}  \n",
    "    while queue:\n",
    "        current = queue.popleft()\n",
    "        for neighbor in graph.get_neighbors(current):\n",
    "            if neighbor not in visited:\n",
    "                queue.append(neighbor)\n",
    "                visited.add(neighbor)\n",
    "                \n",
    "                previous[neighbor] = (current, previous[current][1] + 1)\n",
    "\n",
    "    return previous\n",
    "\n",
    "def calculate_path(previous_dict, start, end):\n",
    "    \"\"\"calculate path between two nodes from a previous dict\"\"\"\n",
    "    path = []\n",
    "    node = end\n",
    "    while node != start:\n",
    "        path.append(node)\n",
    "        node = previous_dict[node][0]\n",
    "    path.append(start)\n",
    "    path.reverse()\n",
    "    return path\n",
    "\n",
    "def betweenness_centrality(graph, steps):\n",
    "    passes_by = {}\n",
    "\n",
    "    for _ in tqdm(range(steps)):\n",
    "        start_nodo = random.choice(list(graph.get_vertices()))\n",
    "\n",
    "        shortest_paths = bfs(graph, start_nodo)\n",
    "\n",
    "        for target in shortest_paths.keys():\n",
    "            if shortest_paths[target][1] == float('inf') or target == start_nodo:\n",
    "                continue\n",
    "            path = calculate_path(shortest_paths, start_nodo , target)\n",
    "        \n",
    "            if not path:\n",
    "                continue\n",
    "            for vertex in path[3:]:\n",
    "                passes_by[vertex] = passes_by.get(vertex, 0) + 1\n",
    "\n",
    "    return passes_by\n",
    "\n",
    "print(\"Calculando betweenness centrality\")\n",
    "betweenness = betweenness_centrality(page_graph, 10)\n",
    "print(\"Betweenness centrality calculado\")\n",
    "print(\"Top 10 vértices con mayor betweenness centrality\")\n",
    "top_betweenness = heapq.nlargest(10, betweenness, key=betweenness.get)\n",
    "for i, vertex in enumerate(top_betweenness):\n",
    "    print(f\"{i+1}. {vertex} - Betweenness Centrality: {betweenness[vertex]}\")\n",
    "\n",
    "\n",
    "# 1. 560622 - Betweenness Centrality: 48088964  Este es NODO CON MAS BETWEENNESS CENTRALITY"
   ]
  }
 ],
 "metadata": {
  "kernelspec": {
   "display_name": "Python 3",
   "language": "python",
   "name": "python3"
  },
  "language_info": {
   "codemirror_mode": {
    "name": "ipython",
    "version": 3
   },
   "file_extension": ".py",
   "mimetype": "text/x-python",
   "name": "python",
   "nbconvert_exporter": "python",
   "pygments_lexer": "ipython3",
   "version": "3.8.10"
  }
 },
 "nbformat": 4,
 "nbformat_minor": 2
}
